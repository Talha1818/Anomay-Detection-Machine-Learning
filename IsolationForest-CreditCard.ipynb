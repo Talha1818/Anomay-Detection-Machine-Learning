{
 "cells": [
  {
   "cell_type": "code",
   "execution_count": 14,
   "metadata": {},
   "outputs": [],
   "source": [
    "import numpy as np \n",
    "import pandas as pd \n",
    "import seaborn as sn\n",
    "import matplotlib.pyplot as plt\n",
    "from datetime import date, timedelta, datetime\n",
    "from tabulate import tabulate\n",
    "import seaborn as sns\n",
    "from sklearn import model_selection\n",
    "from sklearn.datasets import make_classification\n",
    "from sklearn.ensemble import IsolationForest\n",
    "from sklearn.model_selection import train_test_split\n",
    "from sklearn.neighbors import LocalOutlierFactor, KNeighborsClassifier\n",
    "from sklearn.metrics import accuracy_score, confusion_matrix, classification_report, plot_confusion_matrix, make_scorer, f1_score\n",
    "from sklearn.model_selection import GridSearchCV\n",
    "import warnings\n",
    "import timeit\n",
    "from imblearn.over_sampling import SMOTE\n",
    "import warnings\n",
    "warnings.filterwarnings('ignore')"
   ]
  },
  {
   "cell_type": "code",
   "execution_count": 3,
   "metadata": {},
   "outputs": [],
   "source": [
    "#read dataset \n",
    "df = pd.read_csv('creditcard (2).csv')"
   ]
  },
  {
   "cell_type": "markdown",
   "metadata": {},
   "source": [
    "## Exploratory Data Analysis "
   ]
  },
  {
   "cell_type": "code",
   "execution_count": 4,
   "metadata": {},
   "outputs": [
    {
     "data": {
      "text/html": [
       "<div>\n",
       "<style scoped>\n",
       "    .dataframe tbody tr th:only-of-type {\n",
       "        vertical-align: middle;\n",
       "    }\n",
       "\n",
       "    .dataframe tbody tr th {\n",
       "        vertical-align: top;\n",
       "    }\n",
       "\n",
       "    .dataframe thead th {\n",
       "        text-align: right;\n",
       "    }\n",
       "</style>\n",
       "<table border=\"1\" class=\"dataframe\">\n",
       "  <thead>\n",
       "    <tr style=\"text-align: right;\">\n",
       "      <th></th>\n",
       "      <th>Time</th>\n",
       "      <th>V1</th>\n",
       "      <th>V2</th>\n",
       "      <th>V3</th>\n",
       "      <th>V4</th>\n",
       "      <th>V5</th>\n",
       "      <th>V6</th>\n",
       "      <th>V7</th>\n",
       "      <th>V8</th>\n",
       "      <th>V9</th>\n",
       "      <th>...</th>\n",
       "      <th>V21</th>\n",
       "      <th>V22</th>\n",
       "      <th>V23</th>\n",
       "      <th>V24</th>\n",
       "      <th>V25</th>\n",
       "      <th>V26</th>\n",
       "      <th>V27</th>\n",
       "      <th>V28</th>\n",
       "      <th>Amount</th>\n",
       "      <th>Class</th>\n",
       "    </tr>\n",
       "  </thead>\n",
       "  <tbody>\n",
       "    <tr>\n",
       "      <th>count</th>\n",
       "      <td>284807.000000</td>\n",
       "      <td>2.848070e+05</td>\n",
       "      <td>2.848070e+05</td>\n",
       "      <td>2.848070e+05</td>\n",
       "      <td>2.848070e+05</td>\n",
       "      <td>2.848070e+05</td>\n",
       "      <td>2.848070e+05</td>\n",
       "      <td>2.848070e+05</td>\n",
       "      <td>2.848070e+05</td>\n",
       "      <td>2.848070e+05</td>\n",
       "      <td>...</td>\n",
       "      <td>2.848070e+05</td>\n",
       "      <td>2.848070e+05</td>\n",
       "      <td>2.848070e+05</td>\n",
       "      <td>2.848070e+05</td>\n",
       "      <td>2.848070e+05</td>\n",
       "      <td>2.848070e+05</td>\n",
       "      <td>2.848070e+05</td>\n",
       "      <td>2.848070e+05</td>\n",
       "      <td>284807.000000</td>\n",
       "      <td>284807.000000</td>\n",
       "    </tr>\n",
       "    <tr>\n",
       "      <th>mean</th>\n",
       "      <td>94813.859575</td>\n",
       "      <td>3.918649e-15</td>\n",
       "      <td>5.682686e-16</td>\n",
       "      <td>-8.761736e-15</td>\n",
       "      <td>2.811118e-15</td>\n",
       "      <td>-1.552103e-15</td>\n",
       "      <td>2.040130e-15</td>\n",
       "      <td>-1.698953e-15</td>\n",
       "      <td>-1.893285e-16</td>\n",
       "      <td>-3.147640e-15</td>\n",
       "      <td>...</td>\n",
       "      <td>1.473120e-16</td>\n",
       "      <td>8.042109e-16</td>\n",
       "      <td>5.282512e-16</td>\n",
       "      <td>4.456271e-15</td>\n",
       "      <td>1.426896e-15</td>\n",
       "      <td>1.701640e-15</td>\n",
       "      <td>-3.662252e-16</td>\n",
       "      <td>-1.217809e-16</td>\n",
       "      <td>88.349619</td>\n",
       "      <td>0.001727</td>\n",
       "    </tr>\n",
       "    <tr>\n",
       "      <th>std</th>\n",
       "      <td>47488.145955</td>\n",
       "      <td>1.958696e+00</td>\n",
       "      <td>1.651309e+00</td>\n",
       "      <td>1.516255e+00</td>\n",
       "      <td>1.415869e+00</td>\n",
       "      <td>1.380247e+00</td>\n",
       "      <td>1.332271e+00</td>\n",
       "      <td>1.237094e+00</td>\n",
       "      <td>1.194353e+00</td>\n",
       "      <td>1.098632e+00</td>\n",
       "      <td>...</td>\n",
       "      <td>7.345240e-01</td>\n",
       "      <td>7.257016e-01</td>\n",
       "      <td>6.244603e-01</td>\n",
       "      <td>6.056471e-01</td>\n",
       "      <td>5.212781e-01</td>\n",
       "      <td>4.822270e-01</td>\n",
       "      <td>4.036325e-01</td>\n",
       "      <td>3.300833e-01</td>\n",
       "      <td>250.120109</td>\n",
       "      <td>0.041527</td>\n",
       "    </tr>\n",
       "    <tr>\n",
       "      <th>min</th>\n",
       "      <td>0.000000</td>\n",
       "      <td>-5.640751e+01</td>\n",
       "      <td>-7.271573e+01</td>\n",
       "      <td>-4.832559e+01</td>\n",
       "      <td>-5.683171e+00</td>\n",
       "      <td>-1.137433e+02</td>\n",
       "      <td>-2.616051e+01</td>\n",
       "      <td>-4.355724e+01</td>\n",
       "      <td>-7.321672e+01</td>\n",
       "      <td>-1.343407e+01</td>\n",
       "      <td>...</td>\n",
       "      <td>-3.483038e+01</td>\n",
       "      <td>-1.093314e+01</td>\n",
       "      <td>-4.480774e+01</td>\n",
       "      <td>-2.836627e+00</td>\n",
       "      <td>-1.029540e+01</td>\n",
       "      <td>-2.604551e+00</td>\n",
       "      <td>-2.256568e+01</td>\n",
       "      <td>-1.543008e+01</td>\n",
       "      <td>0.000000</td>\n",
       "      <td>0.000000</td>\n",
       "    </tr>\n",
       "    <tr>\n",
       "      <th>25%</th>\n",
       "      <td>54201.500000</td>\n",
       "      <td>-9.203734e-01</td>\n",
       "      <td>-5.985499e-01</td>\n",
       "      <td>-8.903648e-01</td>\n",
       "      <td>-8.486401e-01</td>\n",
       "      <td>-6.915971e-01</td>\n",
       "      <td>-7.682956e-01</td>\n",
       "      <td>-5.540759e-01</td>\n",
       "      <td>-2.086297e-01</td>\n",
       "      <td>-6.430976e-01</td>\n",
       "      <td>...</td>\n",
       "      <td>-2.283949e-01</td>\n",
       "      <td>-5.423504e-01</td>\n",
       "      <td>-1.618463e-01</td>\n",
       "      <td>-3.545861e-01</td>\n",
       "      <td>-3.171451e-01</td>\n",
       "      <td>-3.269839e-01</td>\n",
       "      <td>-7.083953e-02</td>\n",
       "      <td>-5.295979e-02</td>\n",
       "      <td>5.600000</td>\n",
       "      <td>0.000000</td>\n",
       "    </tr>\n",
       "    <tr>\n",
       "      <th>50%</th>\n",
       "      <td>84692.000000</td>\n",
       "      <td>1.810880e-02</td>\n",
       "      <td>6.548556e-02</td>\n",
       "      <td>1.798463e-01</td>\n",
       "      <td>-1.984653e-02</td>\n",
       "      <td>-5.433583e-02</td>\n",
       "      <td>-2.741871e-01</td>\n",
       "      <td>4.010308e-02</td>\n",
       "      <td>2.235804e-02</td>\n",
       "      <td>-5.142873e-02</td>\n",
       "      <td>...</td>\n",
       "      <td>-2.945017e-02</td>\n",
       "      <td>6.781943e-03</td>\n",
       "      <td>-1.119293e-02</td>\n",
       "      <td>4.097606e-02</td>\n",
       "      <td>1.659350e-02</td>\n",
       "      <td>-5.213911e-02</td>\n",
       "      <td>1.342146e-03</td>\n",
       "      <td>1.124383e-02</td>\n",
       "      <td>22.000000</td>\n",
       "      <td>0.000000</td>\n",
       "    </tr>\n",
       "    <tr>\n",
       "      <th>75%</th>\n",
       "      <td>139320.500000</td>\n",
       "      <td>1.315642e+00</td>\n",
       "      <td>8.037239e-01</td>\n",
       "      <td>1.027196e+00</td>\n",
       "      <td>7.433413e-01</td>\n",
       "      <td>6.119264e-01</td>\n",
       "      <td>3.985649e-01</td>\n",
       "      <td>5.704361e-01</td>\n",
       "      <td>3.273459e-01</td>\n",
       "      <td>5.971390e-01</td>\n",
       "      <td>...</td>\n",
       "      <td>1.863772e-01</td>\n",
       "      <td>5.285536e-01</td>\n",
       "      <td>1.476421e-01</td>\n",
       "      <td>4.395266e-01</td>\n",
       "      <td>3.507156e-01</td>\n",
       "      <td>2.409522e-01</td>\n",
       "      <td>9.104512e-02</td>\n",
       "      <td>7.827995e-02</td>\n",
       "      <td>77.165000</td>\n",
       "      <td>0.000000</td>\n",
       "    </tr>\n",
       "    <tr>\n",
       "      <th>max</th>\n",
       "      <td>172792.000000</td>\n",
       "      <td>2.454930e+00</td>\n",
       "      <td>2.205773e+01</td>\n",
       "      <td>9.382558e+00</td>\n",
       "      <td>1.687534e+01</td>\n",
       "      <td>3.480167e+01</td>\n",
       "      <td>7.330163e+01</td>\n",
       "      <td>1.205895e+02</td>\n",
       "      <td>2.000721e+01</td>\n",
       "      <td>1.559499e+01</td>\n",
       "      <td>...</td>\n",
       "      <td>2.720284e+01</td>\n",
       "      <td>1.050309e+01</td>\n",
       "      <td>2.252841e+01</td>\n",
       "      <td>4.584549e+00</td>\n",
       "      <td>7.519589e+00</td>\n",
       "      <td>3.517346e+00</td>\n",
       "      <td>3.161220e+01</td>\n",
       "      <td>3.384781e+01</td>\n",
       "      <td>25691.160000</td>\n",
       "      <td>1.000000</td>\n",
       "    </tr>\n",
       "  </tbody>\n",
       "</table>\n",
       "<p>8 rows × 31 columns</p>\n",
       "</div>"
      ],
      "text/plain": [
       "                Time            V1            V2            V3            V4  \\\n",
       "count  284807.000000  2.848070e+05  2.848070e+05  2.848070e+05  2.848070e+05   \n",
       "mean    94813.859575  3.918649e-15  5.682686e-16 -8.761736e-15  2.811118e-15   \n",
       "std     47488.145955  1.958696e+00  1.651309e+00  1.516255e+00  1.415869e+00   \n",
       "min         0.000000 -5.640751e+01 -7.271573e+01 -4.832559e+01 -5.683171e+00   \n",
       "25%     54201.500000 -9.203734e-01 -5.985499e-01 -8.903648e-01 -8.486401e-01   \n",
       "50%     84692.000000  1.810880e-02  6.548556e-02  1.798463e-01 -1.984653e-02   \n",
       "75%    139320.500000  1.315642e+00  8.037239e-01  1.027196e+00  7.433413e-01   \n",
       "max    172792.000000  2.454930e+00  2.205773e+01  9.382558e+00  1.687534e+01   \n",
       "\n",
       "                 V5            V6            V7            V8            V9  \\\n",
       "count  2.848070e+05  2.848070e+05  2.848070e+05  2.848070e+05  2.848070e+05   \n",
       "mean  -1.552103e-15  2.040130e-15 -1.698953e-15 -1.893285e-16 -3.147640e-15   \n",
       "std    1.380247e+00  1.332271e+00  1.237094e+00  1.194353e+00  1.098632e+00   \n",
       "min   -1.137433e+02 -2.616051e+01 -4.355724e+01 -7.321672e+01 -1.343407e+01   \n",
       "25%   -6.915971e-01 -7.682956e-01 -5.540759e-01 -2.086297e-01 -6.430976e-01   \n",
       "50%   -5.433583e-02 -2.741871e-01  4.010308e-02  2.235804e-02 -5.142873e-02   \n",
       "75%    6.119264e-01  3.985649e-01  5.704361e-01  3.273459e-01  5.971390e-01   \n",
       "max    3.480167e+01  7.330163e+01  1.205895e+02  2.000721e+01  1.559499e+01   \n",
       "\n",
       "       ...           V21           V22           V23           V24  \\\n",
       "count  ...  2.848070e+05  2.848070e+05  2.848070e+05  2.848070e+05   \n",
       "mean   ...  1.473120e-16  8.042109e-16  5.282512e-16  4.456271e-15   \n",
       "std    ...  7.345240e-01  7.257016e-01  6.244603e-01  6.056471e-01   \n",
       "min    ... -3.483038e+01 -1.093314e+01 -4.480774e+01 -2.836627e+00   \n",
       "25%    ... -2.283949e-01 -5.423504e-01 -1.618463e-01 -3.545861e-01   \n",
       "50%    ... -2.945017e-02  6.781943e-03 -1.119293e-02  4.097606e-02   \n",
       "75%    ...  1.863772e-01  5.285536e-01  1.476421e-01  4.395266e-01   \n",
       "max    ...  2.720284e+01  1.050309e+01  2.252841e+01  4.584549e+00   \n",
       "\n",
       "                V25           V26           V27           V28         Amount  \\\n",
       "count  2.848070e+05  2.848070e+05  2.848070e+05  2.848070e+05  284807.000000   \n",
       "mean   1.426896e-15  1.701640e-15 -3.662252e-16 -1.217809e-16      88.349619   \n",
       "std    5.212781e-01  4.822270e-01  4.036325e-01  3.300833e-01     250.120109   \n",
       "min   -1.029540e+01 -2.604551e+00 -2.256568e+01 -1.543008e+01       0.000000   \n",
       "25%   -3.171451e-01 -3.269839e-01 -7.083953e-02 -5.295979e-02       5.600000   \n",
       "50%    1.659350e-02 -5.213911e-02  1.342146e-03  1.124383e-02      22.000000   \n",
       "75%    3.507156e-01  2.409522e-01  9.104512e-02  7.827995e-02      77.165000   \n",
       "max    7.519589e+00  3.517346e+00  3.161220e+01  3.384781e+01   25691.160000   \n",
       "\n",
       "               Class  \n",
       "count  284807.000000  \n",
       "mean        0.001727  \n",
       "std         0.041527  \n",
       "min         0.000000  \n",
       "25%         0.000000  \n",
       "50%         0.000000  \n",
       "75%         0.000000  \n",
       "max         1.000000  \n",
       "\n",
       "[8 rows x 31 columns]"
      ]
     },
     "execution_count": 4,
     "metadata": {},
     "output_type": "execute_result"
    }
   ],
   "source": [
    "#Describe dataset, look at the different columns \n",
    "df.describe()"
   ]
  },
  {
   "cell_type": "code",
   "execution_count": 5,
   "metadata": {},
   "outputs": [
    {
     "data": {
      "text/html": [
       "<div>\n",
       "<style scoped>\n",
       "    .dataframe tbody tr th:only-of-type {\n",
       "        vertical-align: middle;\n",
       "    }\n",
       "\n",
       "    .dataframe tbody tr th {\n",
       "        vertical-align: top;\n",
       "    }\n",
       "\n",
       "    .dataframe thead th {\n",
       "        text-align: right;\n",
       "    }\n",
       "</style>\n",
       "<table border=\"1\" class=\"dataframe\">\n",
       "  <thead>\n",
       "    <tr style=\"text-align: right;\">\n",
       "      <th></th>\n",
       "      <th>Time</th>\n",
       "      <th>V1</th>\n",
       "      <th>V2</th>\n",
       "      <th>V3</th>\n",
       "      <th>V4</th>\n",
       "      <th>V5</th>\n",
       "      <th>V6</th>\n",
       "      <th>V7</th>\n",
       "      <th>V8</th>\n",
       "      <th>V9</th>\n",
       "      <th>...</th>\n",
       "      <th>V21</th>\n",
       "      <th>V22</th>\n",
       "      <th>V23</th>\n",
       "      <th>V24</th>\n",
       "      <th>V25</th>\n",
       "      <th>V26</th>\n",
       "      <th>V27</th>\n",
       "      <th>V28</th>\n",
       "      <th>Amount</th>\n",
       "      <th>Class</th>\n",
       "    </tr>\n",
       "  </thead>\n",
       "  <tbody>\n",
       "  </tbody>\n",
       "</table>\n",
       "<p>0 rows × 31 columns</p>\n",
       "</div>"
      ],
      "text/plain": [
       "Empty DataFrame\n",
       "Columns: [Time, V1, V2, V3, V4, V5, V6, V7, V8, V9, V10, V11, V12, V13, V14, V15, V16, V17, V18, V19, V20, V21, V22, V23, V24, V25, V26, V27, V28, Amount, Class]\n",
       "Index: []\n",
       "\n",
       "[0 rows x 31 columns]"
      ]
     },
     "execution_count": 5,
     "metadata": {},
     "output_type": "execute_result"
    }
   ],
   "source": [
    "#Check if there are any missing values in dataset \n",
    "df[df.isnull().any(axis='columns')]"
   ]
  },
  {
   "cell_type": "code",
   "execution_count": 6,
   "metadata": {},
   "outputs": [
    {
     "data": {
      "text/plain": [
       "<AxesSubplot:>"
      ]
     },
     "execution_count": 6,
     "metadata": {},
     "output_type": "execute_result"
    },
    {
     "data": {
      "image/png": "[encoded data removed]",
      "text/plain": [
       "<Figure size 720x360 with 2 Axes>"
      ]
     },
     "metadata": {
      "needs_background": "light"
     },
     "output_type": "display_data"
    }
   ],
   "source": [
    "#correlation matrix\n",
    "plt.figure(figsize=(10,5))\n",
    "sns.heatmap(df.corr())"
   ]
  },
  {
   "cell_type": "markdown",
   "metadata": {},
   "source": [
    "#### Features V1 - V28"
   ]
  },
  {
   "cell_type": "code",
   "execution_count": 7,
   "metadata": {},
   "outputs": [
    {
     "data": {
      "image/png": "[encoded data removed]",
      "text/plain": [
       "<Figure size 1440x1440 with 30 Axes>"
      ]
     },
     "metadata": {
      "needs_background": "light"
     },
     "output_type": "display_data"
    }
   ],
   "source": [
    "#Create histogram for all features \n",
    "df_hist = df.drop(['Class'], 1)\n",
    "df_hist.hist(figsize=(20,20), bins = 50, color = \"g\", edgecolor='black')\n",
    "plt.show()"
   ]
  },
  {
   "cell_type": "markdown",
   "metadata": {},
   "source": [
    "### Class "
   ]
  },
  {
   "cell_type": "code",
   "execution_count": 8,
   "metadata": {},
   "outputs": [
    {
     "data": {
      "text/plain": [
       "<function matplotlib.pyplot.show(close=None, block=None)>"
      ]
     },
     "execution_count": 8,
     "metadata": {},
     "output_type": "execute_result"
    },
    {
     "data": {
      "image/png": "[encoded data removed]",
      "text/plain": [
       "<Figure size 504x504 with 1 Axes>"
      ]
     },
     "metadata": {
      "needs_background": "light"
     },
     "output_type": "display_data"
    }
   ],
   "source": [
    "#Show class balance\n",
    "plt.figure(figsize=(7,7))\n",
    "fig = sns.countplot(x=\"Class\", data=df, color=\"g\")\n",
    "for p in fig.patches:\n",
    "    fig.annotate(f'\\n{p.get_height()}', (p.get_x()+0.28, p.get_height()), size=15)\n",
    "plt.show"
   ]
  },
  {
   "cell_type": "markdown",
   "metadata": {},
   "source": [
    "### Time"
   ]
  },
  {
   "cell_type": "code",
   "execution_count": 9,
   "metadata": {},
   "outputs": [
    {
     "data": {
      "text/plain": [
       "<Figure size 1440x288 with 0 Axes>"
      ]
     },
     "metadata": {},
     "output_type": "display_data"
    },
    {
     "data": {
      "image/png": "[encoded data removed]",
      "text/plain": [
       "<Figure size 789.133x288 with 1 Axes>"
      ]
     },
     "metadata": {
      "needs_background": "light"
     },
     "output_type": "display_data"
    }
   ],
   "source": [
    "# Plot istribution of the Time variable, which contains transaction data for two days\n",
    "plt.figure(figsize=(20,4))\n",
    "fig = sns.displot(df['Time'], kde=False, color=\"g\", height=4, aspect=11.7/4.27)\n",
    "plt.show()"
   ]
  },
  {
   "cell_type": "code",
   "execution_count": 10,
   "metadata": {},
   "outputs": [
    {
     "data": {
      "text/plain": [
       "Text(0.5, 0.98, 'Transaction Amount over Time split by Class')"
      ]
     },
     "execution_count": 10,
     "metadata": {},
     "output_type": "execute_result"
    },
    {
     "data": {
      "image/png": "[encoded data removed]",
      "text/plain": [
       "<Figure size 762.375x360 with 2 Axes>"
      ]
     },
     "metadata": {
      "needs_background": "light"
     },
     "output_type": "display_data"
    }
   ],
   "source": [
    "# Plot time against amount\n",
    "sns.set_palette(sns.color_palette(\"crest\"))\n",
    "x = df['Time']\n",
    "y = df['Amount']\n",
    "rp = sns.relplot(data=df, x=x, y=y, col=\"Class\", kind=\"scatter\", hue=\"Class\")\n",
    "rp.fig.subplots_adjust(top=0.9)\n",
    "rp.fig.suptitle('Transaction Amount over Time split by Class')"
   ]
  },
  {
   "cell_type": "markdown",
   "metadata": {},
   "source": [
    "### Amount "
   ]
  },
  {
   "cell_type": "code",
   "execution_count": 11,
   "metadata": {},
   "outputs": [
    {
     "name": "stdout",
     "output_type": "stream",
     "text": [
      "The average transaction amount of the fraudulent transactions = 122.21132113821133\n",
      "The average transaction amount of the non fraudulent transactions = 88.29102242225574\n"
     ]
    }
   ],
   "source": [
    "#Calculate the average amount for the different classes \n",
    "Average_fraudulent_amount = df.loc[df['Class'] == 1, 'Amount'].mean()\n",
    "Average_nonfraudulent_amount = df.loc[df['Class'] == 0, 'Amount'].mean()\n",
    "\n",
    "print('The average transaction amount of the fraudulent transactions =', Average_fraudulent_amount)\n",
    "print('The average transaction amount of the non fraudulent transactions =', Average_nonfraudulent_amount)"
   ]
  },
  {
   "cell_type": "code",
   "execution_count": 20,
   "metadata": {},
   "outputs": [],
   "source": [
    "df1 = df[df['Class']==1]"
   ]
  },
  {
   "cell_type": "markdown",
   "metadata": {
    "id": "W-Bv5Tbjljsh"
   },
   "source": [
    "###  Chi squared test"
   ]
  },
  {
   "cell_type": "code",
   "execution_count": 21,
   "metadata": {},
   "outputs": [],
   "source": [
    "#chi2 independence for fraud vs amount\n",
    "from scipy.stats import chi2_contingency\n",
    "chi_p = []\n",
    "for i in df.columns.tolist():\n",
    "    data = pd.crosstab(df1[i], df1['Class'])\n",
    "    _, p, _, _ = chi2_contingency(data)\n",
    "#     chi_p.append(round(p,6))\n",
    "    chi_p.append(p)    "
   ]
  },
  {
   "cell_type": "code",
   "execution_count": 22,
   "metadata": {},
   "outputs": [
    {
     "data": {
      "text/plain": [
       "[1.0,\n",
       " 1.0,\n",
       " 1.0,\n",
       " 1.0,\n",
       " 1.0,\n",
       " 1.0,\n",
       " 1.0,\n",
       " 1.0,\n",
       " 1.0,\n",
       " 1.0,\n",
       " 1.0,\n",
       " 1.0,\n",
       " 1.0,\n",
       " 1.0,\n",
       " 1.0,\n",
       " 1.0,\n",
       " 1.0,\n",
       " 1.0,\n",
       " 1.0,\n",
       " 1.0,\n",
       " 1.0,\n",
       " 1.0,\n",
       " 1.0,\n",
       " 1.0,\n",
       " 1.0,\n",
       " 1.0,\n",
       " 1.0,\n",
       " 1.0,\n",
       " 1.0,\n",
       " 1.0,\n",
       " 1.0]"
      ]
     },
     "execution_count": 22,
     "metadata": {},
     "output_type": "execute_result"
    }
   ],
   "source": [
    "chi_p"
   ]
  },
  {
   "cell_type": "code",
   "execution_count": 23,
   "metadata": {},
   "outputs": [
    {
     "name": "stdout",
     "output_type": "stream",
     "text": [
      "+----+-----------+-----------+\n",
      "|    | feature   |   p-value |\n",
      "|----+-----------+-----------|\n",
      "|  0 | Time      |         1 |\n",
      "|  1 | V27       |         1 |\n",
      "|  2 | V26       |         1 |\n",
      "|  3 | V25       |         1 |\n",
      "|  4 | V24       |         1 |\n",
      "|  5 | V23       |         1 |\n",
      "|  6 | V22       |         1 |\n",
      "|  7 | V21       |         1 |\n",
      "|  8 | V20       |         1 |\n",
      "|  9 | V19       |         1 |\n",
      "| 10 | V18       |         1 |\n",
      "| 11 | V17       |         1 |\n",
      "| 12 | V16       |         1 |\n",
      "| 13 | V15       |         1 |\n",
      "| 14 | V14       |         1 |\n",
      "| 15 | V13       |         1 |\n",
      "| 16 | V12       |         1 |\n",
      "| 17 | V11       |         1 |\n",
      "| 18 | V10       |         1 |\n",
      "| 19 | V9        |         1 |\n",
      "| 20 | V8        |         1 |\n",
      "| 21 | V7        |         1 |\n",
      "| 22 | V6        |         1 |\n",
      "| 23 | V5        |         1 |\n",
      "| 24 | V4        |         1 |\n",
      "| 25 | V3        |         1 |\n",
      "| 26 | V2        |         1 |\n",
      "| 27 | V1        |         1 |\n",
      "| 28 | V28       |         1 |\n",
      "| 29 | Amount    |         1 |\n",
      "+----+-----------+-----------+\n"
     ]
    }
   ],
   "source": [
    "dic = {\n",
    "    'feature' : df1.columns.tolist(),\n",
    "    'p-value' : chi_p\n",
    "}\n",
    "chi_df = pd.DataFrame(dic)[:-1].sort_values(by = 'p-value').reset_index()\n",
    "chi_df = chi_df.drop('index', axis=1)\n",
    "print(tabulate(chi_df, headers = 'keys', tablefmt = 'psql'))"
   ]
  },
  {
   "cell_type": "code",
   "execution_count": 12,
   "metadata": {},
   "outputs": [],
   "source": [
    "#chi2 independence for fraud vs time"
   ]
  },
  {
   "cell_type": "code",
   "execution_count": 13,
   "metadata": {},
   "outputs": [],
   "source": [
    "# df['Amount-Bins'] = ''"
   ]
  },
  {
   "cell_type": "code",
   "execution_count": 14,
   "metadata": {},
   "outputs": [],
   "source": [
    "def make_bins(predictor, size=50):\n",
    "    '''\n",
    "    Takes the predictor (a series or a dataframe of single predictor) and size of bins\n",
    "    Returns bins and bin labels\n",
    "    '''\n",
    "    bins = np.linspace(predictor.min(), predictor.max(), num=size)\n",
    "\n",
    "    bin_labels = []\n",
    "\n",
    "    # Index of the final element in bins list\n",
    "    bins_last_index = bins.shape[0] - 1\n",
    "\n",
    "    for id, val in enumerate(bins):\n",
    "        if id == bins_last_index:\n",
    "            continue\n",
    "        val_to_put = str(int(bins[id])) + ' to ' + str(int(bins[id + 1]))\n",
    "        bin_labels.append(val_to_put)\n",
    "    \n",
    "    return bins, bin_labels"
   ]
  },
  {
   "cell_type": "code",
   "execution_count": 15,
   "metadata": {},
   "outputs": [],
   "source": [
    "# bins, bin_labels = make_bins(df.Amount, size=10)"
   ]
  },
  {
   "cell_type": "code",
   "execution_count": 16,
   "metadata": {},
   "outputs": [],
   "source": [
    "\n",
    "# df['Amount-Bins'] = pd.cut(df.Amount, bins=bins,\n",
    "#                            labels=bin_labels, include_lowest=True)\n",
    "# df['Amount-Bins'].head().to_frame()"
   ]
  },
  {
   "cell_type": "code",
   "execution_count": 17,
   "metadata": {},
   "outputs": [],
   "source": [
    "# df['Amount-Bins'].value_counts()"
   ]
  },
  {
   "cell_type": "code",
   "execution_count": 18,
   "metadata": {},
   "outputs": [],
   "source": [
    "# df_encoded = pd.get_dummies(data=df, columns=['Amount-Bins'])\n",
    "# df = df_encoded.copy()\n",
    "# df"
   ]
  },
  {
   "cell_type": "code",
   "execution_count": 19,
   "metadata": {},
   "outputs": [
    {
     "data": {
      "text/plain": [
       "((284807, 30), (284807,))"
      ]
     },
     "execution_count": 19,
     "metadata": {},
     "output_type": "execute_result"
    }
   ],
   "source": [
    "X = df.drop(labels='Class', axis=1)\n",
    "Y = df['Class']\n",
    "\n",
    "X.shape, Y.shape"
   ]
  },
  {
   "cell_type": "code",
   "execution_count": 20,
   "metadata": {},
   "outputs": [],
   "source": [
    "from sklearn.preprocessing import MinMaxScaler, StandardScaler\n",
    "# mms = StandardScaler()\n",
    "# X = mms.fit_transform(X)"
   ]
  },
  {
   "cell_type": "code",
   "execution_count": 21,
   "metadata": {},
   "outputs": [
    {
     "name": "stdout",
     "output_type": "stream",
     "text": [
      "(199364, 30) (199364,)\n",
      "(85443, 30) (85443,)\n"
     ]
    }
   ],
   "source": [
    "xtrain, xtest, ytrain, ytest = train_test_split(\n",
    "    X, Y, random_state=42, test_size=0.3, shuffle=True)\n",
    "\n",
    "print(xtrain.shape, ytrain.shape)\n",
    "print(xtest.shape, ytest.shape)"
   ]
  },
  {
   "cell_type": "code",
   "execution_count": 22,
   "metadata": {},
   "outputs": [],
   "source": [
    "from sklearn.linear_model import LogisticRegression\n",
    "lr_model = LogisticRegression()"
   ]
  },
  {
   "cell_type": "code",
   "execution_count": 23,
   "metadata": {},
   "outputs": [],
   "source": [
    "# # Training the algorithm\n",
    "# lr_model.fit(xtrain, ytrain)"
   ]
  },
  {
   "cell_type": "code",
   "execution_count": 24,
   "metadata": {},
   "outputs": [],
   "source": [
    "# # Predictions on training and testing data\n",
    "# lr_pred_train = lr_model.predict(xtrain)\n",
    "# lr_pred_test = lr_model.predict(xtest)"
   ]
  },
  {
   "cell_type": "code",
   "execution_count": 25,
   "metadata": {},
   "outputs": [],
   "source": [
    "# Importing the required metrics\n",
    "from sklearn.metrics import accuracy_score, precision_score, recall_score, confusion_matrix"
   ]
  },
  {
   "cell_type": "code",
   "execution_count": 26,
   "metadata": {},
   "outputs": [],
   "source": [
    "# tn, fp, fn, tp = confusion_matrix(ytest, lr_pred_test).ravel()\n",
    "# conf_matrix = pd.DataFrame(\n",
    "#     {\n",
    "#         'Predicted Fraud': [tp, fp],\n",
    "#         'Predicted Not Fraud': [fn, tn]\n",
    "#     }, index=['Fraud', 'Not Fraud'])\n",
    "# conf_matrix"
   ]
  },
  {
   "cell_type": "code",
   "execution_count": 27,
   "metadata": {},
   "outputs": [],
   "source": [
    "# print(classification_report(ytest, lr_pred_test))"
   ]
  },
  {
   "cell_type": "markdown",
   "metadata": {},
   "source": [
    "## Isolation Forest"
   ]
  },
  {
   "cell_type": "markdown",
   "metadata": {},
   "source": [
    "### Pre-processing"
   ]
  },
  {
   "cell_type": "code",
   "execution_count": 28,
   "metadata": {},
   "outputs": [],
   "source": [
    "# Separate the classes from the train set\n",
    "df_classes = df['Class']\n",
    "df_train = df.drop(['Class'], axis=1)\n",
    "\n",
    "# split the data into train and test \n",
    "X_train, X_test, y_train, y_test = train_test_split(df_train, df_classes, test_size=0.30, random_state=42)"
   ]
  },
  {
   "cell_type": "code",
   "execution_count": 29,
   "metadata": {},
   "outputs": [],
   "source": [
    "mms = StandardScaler()\n",
    "X_train = mms.fit_transform(X_train)\n",
    "X_test = mms.transform(X_test)"
   ]
  },
  {
   "cell_type": "code",
   "execution_count": 30,
   "metadata": {},
   "outputs": [],
   "source": [
    "fraud = df[df['Class'] == 1] # Number of fraudulent transactions\n",
    "valid = df[df['Class']== 0] # Number of valid transactions\n",
    "outlier_fraction = len(fraud)/float(len(valid))"
   ]
  },
  {
   "cell_type": "code",
   "execution_count": 31,
   "metadata": {},
   "outputs": [],
   "source": [
    "# train the model on the nominal train set\n",
    "# model_isf = IsolationForest(n_estimators=100, max_samples='auto', contamination='auto', \\\n",
    "#                         max_features=1.0, bootstrap=False, n_jobs=None, verbose=0, warm_start=False).fit(X_train)\n",
    "\n",
    "model_isf = IsolationForest(max_samples = len(X_train),contamination = outlier_fraction).fit(X_train)"
   ]
  },
  {
   "cell_type": "code",
   "execution_count": 32,
   "metadata": {},
   "outputs": [
    {
     "name": "stdout",
     "output_type": "stream",
     "text": [
      "185\n",
      "0.9978348138525098\n",
      "              precision    recall  f1-score   support\n",
      "\n",
      "           0       1.00      1.00      1.00     85290\n",
      "           1       0.38      0.34      0.36       153\n",
      "\n",
      "    accuracy                           1.00     85443\n",
      "   macro avg       0.69      0.67      0.68     85443\n",
      "weighted avg       1.00      1.00      1.00     85443\n",
      "\n"
     ]
    }
   ],
   "source": [
    "b = IsolationForest(contamination = outlier_fraction).fit(X_train) # Fitting the model.\n",
    "# b = IsolationForest(n_estimators=100, max_samples='auto', contamination=outlier_fraction, \\\n",
    "#                         max_features=1.0).fit(X_train)\n",
    "y_prediction2 = b.predict(X_test) # Prediction using trained model.\n",
    "y_prediction2[y_prediction2 == 1] = 0 # Valid transactions are labelled as 0.\n",
    "y_prediction2[y_prediction2 == -1] = 1 # Fraudulent transactions are labelled as 1.\n",
    "errors2 = (y_prediction2 != y_test).sum() # Total number of errors is calculated.\n",
    "print(errors2)\n",
    "print(accuracy_score(y_prediction2,y_test))\n",
    "print(classification_report(y_prediction2,y_test))"
   ]
  },
  {
   "cell_type": "code",
   "execution_count": 33,
   "metadata": {},
   "outputs": [],
   "source": [
    "# # Predictions on training and testing data\n",
    "# pred_train = model_isf.predict(xtrain)\n",
    "# pred_test = model_isf.predict(xtest)"
   ]
  },
  {
   "cell_type": "code",
   "execution_count": 34,
   "metadata": {},
   "outputs": [],
   "source": [
    "# print(classification_report(ytest, pred_test))"
   ]
  },
  {
   "cell_type": "markdown",
   "metadata": {},
   "source": [
    "### Isolation Forest base model"
   ]
  },
  {
   "cell_type": "code",
   "execution_count": 35,
   "metadata": {},
   "outputs": [
    {
     "name": "stdout",
     "output_type": "stream",
     "text": [
      "Isolation Forest base model\n",
      "\n",
      "Total number of errors:  185\n",
      "              precision    recall  f1-score   support\n",
      "\n",
      "           0       1.00      1.00      1.00     85307\n",
      "           1       0.34      0.38      0.36       136\n",
      "\n",
      "    accuracy                           1.00     85443\n",
      "   macro avg       0.67      0.69      0.68     85443\n",
      "weighted avg       1.00      1.00      1.00     85443\n",
      "\n"
     ]
    },
    {
     "data": {
      "image/png": "[encoded data removed]",
      "text/plain": [
       "<Figure size 432x288 with 2 Axes>"
      ]
     },
     "metadata": {
      "needs_background": "light"
     },
     "output_type": "display_data"
    }
   ],
   "source": [
    "def measure_performance(model, X_test, y_true, map_labels):\n",
    "    # predict on testset\n",
    "    df_pred_test = X_test.copy()\n",
    "    df_pred_test = pd.DataFrame(df_pred_test)\n",
    "#     print(df_pred_test)\n",
    "#     print(model.predict(X_test))\n",
    "    df_pred_test['Pred'] = model.predict(X_test)\n",
    "    if map_labels:\n",
    "        df_pred_test['Pred'] = df_pred_test['Pred'].map({1: 0, -1: 1})\n",
    "    \n",
    "\n",
    "    # measure performance\n",
    "    y_pred = df_pred_test['Pred'] \n",
    "    # Total error calculated\n",
    "    errors = (y_pred.tolist() != y_true).sum() \n",
    "    print(\"\\nTotal number of errors: \", errors)\n",
    "    matrix = confusion_matrix(y_true, y_pred)\n",
    "\n",
    "    sns.heatmap(pd.DataFrame(matrix, columns = ['Predicted', 'Actual']),\n",
    "                xticklabels=['Predicted normal', 'Predicted fraud'], \n",
    "                yticklabels=['Actual normal', 'Actual fraud'], \n",
    "                annot=True, fmt=\"d\", linewidths=.5, cmap=\"crest\")\n",
    "    plt.ylabel('Actual')\n",
    "    plt.xlabel('Predicted')\n",
    "    \n",
    "    print(classification_report(y_true, y_pred))\n",
    "\n",
    "    model_score = f1_score(y_true, y_pred, average='macro')\n",
    "    return model_score\n",
    "\n",
    "model_name = 'Isolation Forest base'\n",
    "print(f'{model_name} model')\n",
    "\n",
    "map_labels = True\n",
    "model_score = measure_performance(b, X_test, y_test, map_labels)\n"
   ]
  },
  {
   "cell_type": "markdown",
   "metadata": {},
   "source": [
    "### Isolation Forest Hypertuning using grid search"
   ]
  },
  {
   "cell_type": "code",
   "execution_count": 36,
   "metadata": {},
   "outputs": [],
   "source": [
    "# #define parameters\n",
    "# warnings.filterwarnings('ignore')\n",
    "# n_estimators= [50, 100, 200]\n",
    "# max_samples= ['auto', 300]\n",
    "# max_features= [0.5, 1.0, 1.5]\n",
    "# contamination=['auto', 0.1, 0.2]\n",
    "\n",
    "# param_grid = dict(n_estimators=n_estimators, max_features=max_features, max_samples=max_samples, contamination=contamination)\n",
    "\n",
    "# clf = IsolationForest(n_estimators=n_estimators, \n",
    "#                             max_features=max_features, \n",
    "#                             max_samples=max_samples,\n",
    "#                             contamination=contamination, \n",
    "#                             bootstrap=False, \n",
    "#                             n_jobs=-1)\n",
    "\n",
    "# # Define a f1_scorer\n",
    "# f1sc = make_scorer(f1_score, average='macro')\n",
    "\n",
    "# #gridsearch\n",
    "# grid = GridSearchCV(estimator=clf, param_grid=param_grid, scoring=f1sc, cv=3, refit=True, return_train_score=True)\n",
    "# grid_results = grid.fit(X_train, y_train)\n",
    "\n",
    "# model_name = 'Isolation Forest Hypertuned'\n",
    "# print(f'{model_name} model')\n",
    "\n",
    "# best_model = grid_results.best_estimator_\n",
    "# map_labels = True\n",
    "# model_score = measure_performance(best_model, X_test, y_test, map_labels)\n",
    "\n",
    "# print('Best Hyperparameters: %s' % grid_results.best_params_)\n",
    "# print('Best score:%s' % grid_results.best_score_)\n"
   ]
  },
  {
   "cell_type": "markdown",
   "metadata": {},
   "source": [
    "### Isolation Forest Shuffle split Cross validation"
   ]
  },
  {
   "cell_type": "code",
   "execution_count": 37,
   "metadata": {},
   "outputs": [],
   "source": [
    "#add shuffle split"
   ]
  },
  {
   "cell_type": "markdown",
   "metadata": {},
   "source": [
    "#### Isolation Forest Smote for class imbalance"
   ]
  },
  {
   "cell_type": "code",
   "execution_count": 41,
   "metadata": {},
   "outputs": [
    {
     "name": "stdout",
     "output_type": "stream",
     "text": [
      "Original dataset shape Counter({0: 284315, 1: 492})\n",
      " \n",
      "Resampled dataset shape (0.1) Counter({0: 199008, 1: 19900})\n",
      "Total number of errors:  133\n",
      " \n",
      "Resampled dataset shape (0.2) Counter({0: 199008, 1: 39801})\n",
      "Total number of errors:  132\n",
      " \n",
      "Resampled dataset shape (0.3) Counter({0: 199008, 1: 59702})\n",
      "Total number of errors:  134\n",
      " \n",
      "Resampled dataset shape (0.4) Counter({0: 199008, 1: 79603})\n",
      "Total number of errors:  133\n",
      " \n",
      "Resampled dataset shape (0.5) Counter({0: 199008, 1: 99504})\n",
      "Total number of errors:  135\n",
      " \n",
      "Resampled dataset shape (0.6) Counter({0: 199008, 1: 119404})\n",
      "Total number of errors:  141\n",
      " \n",
      "Resampled dataset shape (0.7) Counter({0: 199008, 1: 139305})\n",
      "Total number of errors:  136\n",
      " \n",
      "Resampled dataset shape (0.8) Counter({0: 199008, 1: 159206})\n",
      "Total number of errors:  135\n",
      " \n",
      "Resampled dataset shape (0.9) Counter({0: 199008, 1: 179107})\n",
      "Total number of errors:  137\n",
      " \n",
      "Resampled dataset shape (1) Counter({0: 199008, 1: 199008})\n",
      "Total number of errors:  140\n",
      " \n"
     ]
    }
   ],
   "source": [
    "#add smote\n",
    "def return_classification_report(model_isf, X_test, y_true, map_labels):\n",
    "    # predict on testset\n",
    "    df_pred_test = X_test.copy()\n",
    "    df_pred_test = X_test.copy()\n",
    "    df_pred_test = pd.DataFrame(df_pred_test)\n",
    "    \n",
    "    df_pred_test['Pred'] = model_isf.predict(X_test)\n",
    "    if map_labels:\n",
    "        df_pred_test['Pred'] = df_pred_test['Pred'].map({1: 0, -1: 1})\n",
    "\n",
    "    # measure performance\n",
    "    y_pred = df_pred_test['Pred'] \n",
    "     # Total error calculated\n",
    "    errors = (y_pred.tolist() != y_true).sum() \n",
    "    print(\"Total number of errors: \", errors)\n",
    "    print(\" \")\n",
    "    matrix = confusion_matrix(y_true, y_pred)\n",
    "\n",
    "    report = classification_report(y_true, y_pred, output_dict=True)\n",
    "    return report\n",
    "\n",
    "#add smote \n",
    "# Separate the classes from the train set\n",
    "from imblearn.over_sampling import SMOTE\n",
    "from collections import Counter\n",
    "\n",
    "df_classes = df['Class']\n",
    "df_train = df.drop(['Class'], axis=1)\n",
    "\n",
    "# split the data into train and test \n",
    "X_train, X_test, y_train, y_test = train_test_split(df_train, df_classes, test_size=0.30, random_state=42)\n",
    "\n",
    "print('Original dataset shape %s' % Counter(df_classes))\n",
    "print(\" \")\n",
    "\n",
    "\n",
    "balancing_ratio = [0.1, 0.2, 0.3, 0.4, 0.5, 0.6, 0.7, 0.8, 0.9, 1]\n",
    "\n",
    "model_scores = {}\n",
    "\n",
    "for ratio in balancing_ratio:\n",
    "    sm = SMOTE(random_state=42, sampling_strategy=ratio)\n",
    "    X_train_res, y_train_res = sm.fit_resample(X_train, y_train)\n",
    "    print(f\"Resampled dataset shape ({ratio}) {Counter(y_train_res)}\")\n",
    "#     print('Resampled dataset shape %s Balancing Ratio %i' % Counter(y_train_res), ratio)\n",
    "    # train the model on the nominal train set\n",
    "#     model_isf_Smote = IsolationForest(n_estimators=100, max_samples='auto', contamination='auto', \\\n",
    "#                             max_features=1.0, bootstrap=False, n_jobs=None, verbose=0, warm_start=False).fit(X_train_res)\n",
    "    model_isf_Smote = IsolationForest(contamination = outlier_fraction).fit(X_train_res)\n",
    "    \n",
    "\n",
    "    map_labels = True\n",
    "    #model_score[str(int(ratio))] = \n",
    "    a  = return_classification_report(model_isf_Smote, X_test, y_test, map_labels)\n",
    "    model_scores[ratio] = a\n",
    "    \n"
   ]
  },
  {
   "cell_type": "code",
   "execution_count": 42,
   "metadata": {},
   "outputs": [
    {
     "data": {
      "text/plain": [
       "[(0.1,\n",
       "  'precision: 0.8325725121146148 Recall: 0.5220412399782378 F1-score: 0.5409898315436024'),\n",
       " (0.2,\n",
       "  'precision: 0.999227519048678 Recall: 0.5147058823529411 F1-score: 0.5281848895016993'),\n",
       " (0.3,\n",
       "  'precision: 0.8742216669202589 Recall: 0.5110235505809813 F1-score: 0.5210361757062705'),\n",
       " (0.4,\n",
       "  'precision: 0.9992216760299626 Recall: 0.5110294117647058 F1-score: 0.5211932686978964'),\n",
       " (0.5,\n",
       "  'precision: 0.8325491573033708 Recall: 0.507347079992746 F1-score: 0.5139931674753083'),\n",
       " (0.6,\n",
       "  'precision: 0.6103268800087397 Recall: 0.5073119128903979 F1-score: 0.5133801973507364'),\n",
       " (0.7,\n",
       "  'precision: 0.7492158147918397 Recall: 0.5073412188090213 F1-score: 0.5138874619108417'),\n",
       " (0.8,\n",
       "  'precision: 0.8325491573033708 Recall: 0.507347079992746 F1-score: 0.5139931674753083'),\n",
       " (0.9,\n",
       "  'precision: 0.6992158056134272 Recall: 0.5073353576252966 F1-score: 0.5137832141123724'),\n",
       " (1,\n",
       "  'precision: 0.6242157780769005 Recall: 0.5073177740741226 F1-score: 0.5134789136045417')]"
      ]
     },
     "execution_count": 42,
     "metadata": {},
     "output_type": "execute_result"
    }
   ],
   "source": [
    "[(ratio, 'precision: {0} Recall: {1} F1-score: {2}'.format(model_scores[ratio]['macro avg']['precision'],model_scores[ratio]['macro avg']['recall'],model_scores[ratio]['macro avg']['f1-score'])) for ratio in balancing_ratio]"
   ]
  },
  {
   "cell_type": "code",
   "execution_count": 43,
   "metadata": {},
   "outputs": [
    {
     "name": "stdout",
     "output_type": "stream",
     "text": [
      "====================================================================================================\n",
      "\t\t\t\tBalancing Ratio: 10%\n",
      "====================================================================================================\n",
      "                      0           1  accuracy     macro avg  weighted avg\n",
      "precision      0.998478    0.666667  0.998443      0.832573      0.997950\n",
      "recall         0.999965    0.044118  0.998443      0.522041      0.998443\n",
      "f1-score       0.999221    0.082759  0.998443      0.540990      0.997762\n",
      "support    85307.000000  136.000000  0.998443  85443.000000  85443.000000\n",
      " \n",
      "====================================================================================================\n",
      "\t\t\t\tBalancing Ratio: 20%\n",
      "====================================================================================================\n",
      "                      0           1  accuracy     macro avg  weighted avg\n",
      "precision      0.998455    1.000000  0.998455      0.999228      0.998457\n",
      "recall         1.000000    0.029412  0.998455      0.514706      0.998455\n",
      "f1-score       0.999227    0.057143  0.998455      0.528185      0.997727\n",
      "support    85307.000000  136.000000  0.998455  85443.000000  85443.000000\n",
      " \n",
      "====================================================================================================\n",
      "\t\t\t\tBalancing Ratio: 30%\n",
      "====================================================================================================\n",
      "                      0           1  accuracy     macro avg  weighted avg\n",
      "precision      0.998443    0.750000  0.998432      0.874222      0.998048\n",
      "recall         0.999988    0.022059  0.998432      0.511024      0.998432\n",
      "f1-score       0.999215    0.042857  0.998432      0.521036      0.997693\n",
      "support    85307.000000  136.000000  0.998432  85443.000000  85443.000000\n",
      " \n",
      "====================================================================================================\n",
      "\t\t\t\tBalancing Ratio: 40%\n",
      "====================================================================================================\n",
      "                      0           1  accuracy     macro avg  weighted avg\n",
      "precision      0.998443    1.000000  0.998443      0.999222      0.998446\n",
      "recall         1.000000    0.022059  0.998443      0.511029      0.998443\n",
      "f1-score       0.999221    0.043165  0.998443      0.521193      0.997699\n",
      "support    85307.000000  136.000000  0.998443  85443.000000  85443.000000\n",
      " \n",
      "====================================================================================================\n",
      "\t\t\t\tBalancing Ratio: 50%\n",
      "====================================================================================================\n",
      "                      0           1  accuracy     macro avg  weighted avg\n",
      "precision      0.998432    0.666667   0.99842      0.832549      0.997904\n",
      "recall         0.999988    0.014706   0.99842      0.507347      0.998420\n",
      "f1-score       0.999209    0.028777   0.99842      0.513993      0.997665\n",
      "support    85307.000000  136.000000   0.99842  85443.000000  85443.000000\n",
      " \n",
      "====================================================================================================\n",
      "\t\t\t\tBalancing Ratio: 60%\n",
      "====================================================================================================\n",
      "                      0           1  accuracy     macro avg  weighted avg\n",
      "precision      0.998432    0.222222   0.99835      0.610327      0.997196\n",
      "recall         0.999918    0.014706   0.99835      0.507312      0.998350\n",
      "f1-score       0.999174    0.027586   0.99835      0.513380      0.997628\n",
      "support    85307.000000  136.000000   0.99835  85443.000000  85443.000000\n",
      " \n",
      "====================================================================================================\n",
      "\t\t\t\tBalancing Ratio: 70%\n",
      "====================================================================================================\n",
      "                      0           1  accuracy     macro avg  weighted avg\n",
      "precision      0.998432    0.500000  0.998408      0.749216      0.997638\n",
      "recall         0.999977    0.014706  0.998408      0.507341      0.998408\n",
      "f1-score       0.999203    0.028571  0.998408      0.513887      0.997659\n",
      "support    85307.000000  136.000000  0.998408  85443.000000  85443.000000\n",
      " \n",
      "====================================================================================================\n",
      "\t\t\t\tBalancing Ratio: 80%\n",
      "====================================================================================================\n",
      "                      0           1  accuracy     macro avg  weighted avg\n",
      "precision      0.998432    0.666667   0.99842      0.832549      0.997904\n",
      "recall         0.999988    0.014706   0.99842      0.507347      0.998420\n",
      "f1-score       0.999209    0.028777   0.99842      0.513993      0.997665\n",
      "support    85307.000000  136.000000   0.99842  85443.000000  85443.000000\n",
      " \n",
      "====================================================================================================\n",
      "\t\t\t\tBalancing Ratio: 90%\n",
      "====================================================================================================\n",
      "                      0           1  accuracy     macro avg  weighted avg\n",
      "precision      0.998432    0.400000  0.998397      0.699216      0.997479\n",
      "recall         0.999965    0.014706  0.998397      0.507335      0.998397\n",
      "f1-score       0.999198    0.028369  0.998397      0.513783      0.997652\n",
      "support    85307.000000  136.000000  0.998397  85443.000000  85443.000000\n",
      " \n",
      "====================================================================================================\n",
      "\t\t\t\tBalancing Ratio: 100%\n",
      "====================================================================================================\n",
      "                      0           1  accuracy     macro avg  weighted avg\n",
      "precision      0.998432    0.250000  0.998361      0.624216      0.997240\n",
      "recall         0.999930    0.014706  0.998361      0.507318      0.998361\n",
      "f1-score       0.999180    0.027778  0.998361      0.513479      0.997634\n",
      "support    85307.000000  136.000000  0.998361  85443.000000  85443.000000\n",
      " \n"
     ]
    }
   ],
   "source": [
    "for i in balancing_ratio:\n",
    "    print(\"=\"*100)\n",
    "    print(f\"\\t\\t\\t\\tBalancing Ratio: {int(i*100)}%\")\n",
    "    print(\"=\"*100)\n",
    "    print(pd.DataFrame(model_scores[i]))\n",
    "    print(\" \")"
   ]
  },
  {
   "cell_type": "code",
   "execution_count": null,
   "metadata": {},
   "outputs": [],
   "source": []
  }
 ],
 "metadata": {
  "interpreter": {
   "hash": "b96667def657803bf098c28d4f1bd01f23d79d055eb32d29e42d06762ce510b9"
  },
  "kernelspec": {
   "display_name": "Python 3 (ipykernel)",
   "language": "python",
   "name": "python3"
  },
  "language_info": {
   "codemirror_mode": {
    "name": "ipython",
    "version": 3
   },
   "file_extension": ".py",
   "mimetype": "text/x-python",
   "name": "python",
   "nbconvert_exporter": "python",
   "pygments_lexer": "ipython3",
   "version": "3.9.7"
  }
 },
 "nbformat": 4,
 "nbformat_minor": 2
}
